{
  "nbformat": 4,
  "nbformat_minor": 0,
  "metadata": {
    "colab": {
      "name": "Copy of Colab: Image Manipulation",
      "version": "0.3.2",
      "provenance": [],
      "private_outputs": true,
      "collapsed_sections": [],
      "toc_visible": true
    },
    "kernelspec": {
      "name": "python3",
      "display_name": "Python 3"
    }
  },
  "cells": [
    {
      "metadata": {
        "id": "jk3COdKGIB7l",
        "colab_type": "text"
      },
      "cell_type": "markdown",
      "source": [
        "## Get image\n",
        "\n",
        "Let's [download an image file](https://drive.google.com/open?id=14XqhM1bck2Hitq5_ENtA8QvqozY8_0Em) for the image manipulation exercise."
      ]
    },
    {
      "metadata": {
        "id": "euRZuE9MLHd0",
        "colab_type": "code",
        "colab": {}
      },
      "cell_type": "code",
      "source": [
        "# Upload the file you just downloaded from your computer to the colab runtime\n",
        "\n",
        "from google.colab import files\n",
        "\n",
        "uploaded = files.upload()\n",
        "\n",
        "for fn in uploaded.keys():\n",
        "  print('User uploaded file \"{name}\" with length {length} bytes'.format(\n",
        "      name=fn, length=len(uploaded[fn])))\n",
        "  \n",
        "# List to verify that the file is uploaded to the colab runtime\n",
        "!ls -l *"
      ],
      "execution_count": 0,
      "outputs": []
    },
    {
      "metadata": {
        "id": "w9Clq0KWL2dD",
        "colab_type": "text"
      },
      "cell_type": "markdown",
      "source": [
        "## Make image square and smaller size"
      ]
    },
    {
      "metadata": {
        "id": "LfcdK_js_dQd",
        "colab_type": "code",
        "colab": {}
      },
      "cell_type": "code",
      "source": [
        "# Import plotting and image manipulation Python modules\n",
        "from matplotlib import pyplot as plt\n",
        "from PIL import Image, ImageOps"
      ],
      "execution_count": 0,
      "outputs": []
    },
    {
      "metadata": {
        "id": "JwYj6dhjFJPQ",
        "colab_type": "code",
        "colab": {}
      },
      "cell_type": "code",
      "source": [
        "# Open the image file\n",
        "image_path = 'sneaker1.png'\n",
        "image = Image.open(image_path)\n",
        "\n",
        "# Plot the image and dimension\n",
        "original_size = image.size\n",
        "print('Original image size:', original_size)\n",
        "plt.figure(figsize = (10,10))\n",
        "plt.imshow(image)"
      ],
      "execution_count": 0,
      "outputs": []
    },
    {
      "metadata": {
        "id": "E_WN9F0AgwkQ",
        "colab_type": "code",
        "colab": {}
      },
      "cell_type": "code",
      "source": [
        "# Get the longest dimension\n",
        "padded_size = max(original_size)\n",
        "print('Longer dimension:', padded_size)\n",
        "\n",
        "# Compute the delta width and height\n",
        "delta_w = padded_size - original_size[0]\n",
        "delta_h = padded_size - original_size[1]\n",
        "print('Delta (width, height):', delta_w, ',', delta_h)\n",
        "\n",
        "# Compute paddings needed\n",
        "padding = (delta_w//2, delta_h//2, delta_w-(delta_w//2), delta_h-(delta_h//2))\n",
        "print('Padding (left, top, right, bottom):', padding)\n",
        "\n",
        "# Pad and plot the image\n",
        "padded_image = ImageOps.expand(image, padding, (255,255,255,255))\n",
        "print('Padded image size:', padded_image.size)\n",
        "plt.figure(figsize = (10,10))\n",
        "plt.imshow(padded_image)"
      ],
      "execution_count": 0,
      "outputs": []
    },
    {
      "metadata": {
        "id": "GfhuSpMqfngD",
        "colab_type": "code",
        "colab": {}
      },
      "cell_type": "code",
      "source": [
        "# Set desired image size\n",
        "desired_size = (200, 200)\n",
        "\n",
        "# Resize and plot the image\n",
        "resized_image = padded_image.resize(desired_size, Image.ANTIALIAS)\n",
        "print('Resized image size:', resized_image.size)\n",
        "plt.figure(figsize = (1,1))\n",
        "plt.imshow(resized_image)"
      ],
      "execution_count": 0,
      "outputs": []
    },
    {
      "metadata": {
        "id": "SdqWCg3eLldl",
        "colab_type": "text"
      },
      "cell_type": "markdown",
      "source": [
        "# Exercise"
      ]
    },
    {
      "metadata": {
        "id": "axURTCgJwOjY",
        "colab_type": "text"
      },
      "cell_type": "markdown",
      "source": [
        "Your turn!  [Download a different image](https://drive.google.com/open?id=1Apn1uAdBS4y-59zd83mrzHElcWmOIZUt) and make it square and a size of 100 by 100 pixels"
      ]
    },
    {
      "metadata": {
        "id": "mM2z0RJQfWev",
        "colab_type": "code",
        "colab": {}
      },
      "cell_type": "code",
      "source": [
        "# Upload the file you just downloaded from your computer to the colab runtime\n",
        "\n",
        "from google.colab import files\n",
        "\n",
        "uploaded = files.upload()\n",
        "\n",
        "for fn in uploaded.keys():\n",
        "  print('User uploaded file \"{name}\" with length {length} bytes'.format(\n",
        "      name=fn, length=len(uploaded[fn])))\n",
        "  \n",
        "# List to verify that the file is uploaded to the colab runtime\n",
        "!ls -l *"
      ],
      "execution_count": 0,
      "outputs": []
    },
    {
      "metadata": {
        "id": "NlafXcm_wMNc",
        "colab_type": "code",
        "colab": {}
      },
      "cell_type": "code",
      "source": [
        "### YOUR CODE HERE ###\n",
        "\n",
        "# Open the image file\n",
        "\n",
        "# Plot the image and dimension\n",
        "\n",
        "# Get the longest dimension\n",
        "\n",
        "# Compute the delta width and height\n",
        "\n",
        "# Compute paddings needed\n",
        "\n",
        "# Pad and plot the image\n",
        "\n",
        "# Set desired image size\n",
        "\n",
        "# Resize and plot the image\n"
      ],
      "execution_count": 0,
      "outputs": []
    },
    {
      "metadata": {
        "id": "-SK6FT1nwFkP",
        "colab_type": "text"
      },
      "cell_type": "markdown",
      "source": [
        "# Challenge (optional)"
      ]
    },
    {
      "metadata": {
        "id": "T7EgQSQCwjrK",
        "colab_type": "text"
      },
      "cell_type": "markdown",
      "source": [
        "Pick one of the image above, and do the following:\n",
        "\n",
        "1.   Flip the image horizontally (left to right).\n",
        "2.   Then, save the flipped image back to overwrite the original image file.\n",
        "\n",
        "Resource: [PIL Reference Guide](https://pillow.readthedocs.io/en/3.0.x/reference/ImageOps.html)\n",
        "\n"
      ]
    },
    {
      "metadata": {
        "id": "tBTnDLI8ZBry",
        "colab_type": "code",
        "colab": {}
      },
      "cell_type": "code",
      "source": [
        "### YOUR CODE HERE ###\n",
        "\n",
        "# Flip the image horizontally (left to right)\n",
        "\n",
        "\n",
        "\n",
        "# Plot the image to show the image is indeed flipped horizontally\n",
        "\n"
      ],
      "execution_count": 0,
      "outputs": []
    },
    {
      "metadata": {
        "id": "tY0967odCyZs",
        "colab_type": "code",
        "colab": {}
      },
      "cell_type": "code",
      "source": [
        "### YOUR CODE HERE ###\n",
        "\n",
        "# Save newly generated image to the folder\n",
        "\n"
      ],
      "execution_count": 0,
      "outputs": []
    }
  ]
}